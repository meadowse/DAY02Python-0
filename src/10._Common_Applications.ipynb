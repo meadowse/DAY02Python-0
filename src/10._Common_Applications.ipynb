{
 "cells": [
  {
   "cell_type": "markdown",
   "metadata": {
    "colab_type": "text",
    "id": "SJKDnn0fi-Np"
   },
   "source": [
    "# Прикладные задачи. Модули os, sys. Работа с архивами"
   ]
  },
  {
   "cell_type": "markdown",
   "metadata": {
    "colab_type": "text",
    "id": "0JVuEm5Y6ZRn"
   },
   "source": [
    "Для многих прикладных задач потребуется подключать специальные библиотеки, которые значительно облегчают процесс разработки и автоматизируют львиную долю стандартных операций. Ниже представим некоторые из них."
   ]
  },
  {
   "cell_type": "markdown",
   "metadata": {
    "colab_type": "text",
    "id": "3saG1xD4-JfF"
   },
   "source": [
    "## Обработка конфигурационных файлов"
   ]
  },
  {
   "cell_type": "markdown",
   "metadata": {
    "colab_type": "text",
    "id": "M417rJFT-fG3"
   },
   "source": [
    "### json\n",
    "\n",
    "JSON (JavaScript Object Notation) - простой формат обмена данными, основанный на подмножестве синтаксиса JavaScript. Модуль json позволяет кодировать и декодировать данные в удобном формате.\n",
    "\n",
    "Некоторые возможности библиотеки **json**\n",
    "\n",
    "**json.dump**`(obj, fp, skipkeys=False, ensure_ascii=True, check_circular=True, allow_nan=True, cls=None, indent=None, separators=None, default=None, sort_keys=False, **kw)` - сериализует obj как форматированный JSON поток в fp.\n",
    "\n",
    "**json.dumps**`(obj, skipkeys=False, ensure_ascii=True, check_circular=True, allow_nan=True, cls=None, indent=None, separators=None, default=None, sort_keys=False, **kw)` - сериализует obj в строку JSON-формата.\n",
    "\n",
    "**json.load**`(fp, cls=None, object_hook=None, parse_float=None, parse_int=None, parse_constant=None, object_pairs_hook=None, **kw)` - десериализует JSON из fp.\n",
    "\n",
    "**json.loads**`(s, encoding=None, cls=None, object_hook=None, parse_float=None, parse_int=None, parse_constant=None, object_pairs_hook=None, **kw)` - десериализует s (экземпляр str, содержащий документ JSON) в объект Python."
   ]
  },
  {
   "cell_type": "code",
   "execution_count": 2,
   "metadata": {
    "colab": {
     "base_uri": "https://localhost:8080/",
     "height": 170
    },
    "colab_type": "code",
    "executionInfo": {
     "elapsed": 976,
     "status": "ok",
     "timestamp": 1575465221468,
     "user": {
      "displayName": "Надежда Демиденко",
      "photoUrl": "https://lh3.googleusercontent.com/a-/AAuE7mA6D7k5OgtG9hzPe8Abs8DfOKAXQoTXaPfn7EY=s64",
      "userId": "05224310221243935536"
     },
     "user_tz": -180
    },
    "id": "gvxfsMJoi5C3",
    "outputId": "cf696a08-e536-4c05-b091-36e5947ea4f5"
   },
   "outputs": [
    {
     "name": "stdout",
     "output_type": "stream",
     "text": [
      "[\"foo\", {\"bar\": [\"baz\", null, 1.0, 2]}]\n",
      "{\"a\": 0, \"b\": 0, \"c\": 0}\n",
      "[1,2,3,{\"4\":5,\"6\":7}]\n",
      "{\n",
      "    \"4\": 5,\n",
      "    \"6\": 7\n",
      "}\n",
      "<class 'list'>\n",
      "\"foo\bar\n"
     ]
    }
   ],
   "source": [
    "import json\n",
    "\n",
    "# Кодирование основных объектов Python\n",
    "print(json.dumps(['foo', {'bar': ('baz', None, 1.0, 2)}]))\n",
    "print(json.dumps({\"c\": 0, \"b\": 0, \"a\": 0}, sort_keys=True))\n",
    "\n",
    "# Компактное кодирование\n",
    "print(json.dumps([1,2,3,{'4': 5, '6': 7}], separators=(',', ':')))\n",
    "\n",
    "# Красивый вывод\n",
    "print(json.dumps({'4': 5, '6': 7}, sort_keys=True, indent=4))\n",
    "\n",
    "# Декодирование (парсинг) JSON\n",
    "print(type(json.loads('[\"foo\", {\"bar\":[\"baz\", null, 1.0, 2]}]')))\n",
    "print(json.loads('\"\\\\\"foo\\\\bar\"'))"
   ]
  },
  {
   "cell_type": "markdown",
   "metadata": {},
   "source": [
    "# Задание\n",
    "\n",
    "Задачи, аналогичные этой, часто встречаются в реальной веб-разработке. Будем получать и отдавать JSONы. К вам поступают данные в виде json-строки, в которых содержится список людей. Для каждого человека описаны различные его параметры, но вам нужно посчитать просто средний возраст всех людей из списка. Напишите функцию mean_age(json_string), которая принимает json строку, считает средний возраст людей из входных данных и возвращает новую json-строку с посчитанным возрастом. Формат входных и выходных данных указан в контесте в задаче Парсинг JSON, проверить правильность выполнения задания вы можете там же."
   ]
  },
  {
   "cell_type": "code",
   "execution_count": 32,
   "metadata": {},
   "outputs": [
    {
     "name": "stdout",
     "output_type": "stream",
     "text": [
      "{\"mean_age\": 23.5}\n"
     ]
    }
   ],
   "source": [
    "# опишите решение здесь\n",
    "# Задачи, аналогичные этой, часто встречаются в реальной веб-разработке. Будем получать и отдавать JSONы.\n",
    "# К вам поступают данные в виде json-строки, в которых содержится список людей.\n",
    "# Для каждого человека описаны различные его параметры,\n",
    "# но вам нужно посчитать просто средний возраст всех людей из списка. Напишите функцию mean_age(json_string),\n",
    "# которая принимает json строку,\n",
    "# считает средний возраст людей из входных данных и возвращает новую json-строку в том формате, который указан ниже.\n",
    "import json\n",
    "def mean_age(json_string) -> dict:\n",
    "    with open(json_string) as f:\n",
    "        s = f.readlines()\n",
    "        s = ''.join(s)\n",
    "        s = s.split('\\n')\n",
    "        s = ''.join(s)\n",
    "        s = s.split('    ')\n",
    "        s = ''.join(s)\n",
    "    s = json.loads(s)\n",
    "    Sum = 0\n",
    "    for el in s:\n",
    "        Sum += el.get(\"age\")\n",
    "    meanAge = Sum/len(s)\n",
    "    s = '{\"mean_age\": ' + str(meanAge) + '}'\n",
    "    return s\n",
    "print(mean_age(\"input.txt\"))"
   ]
  },
  {
   "cell_type": "markdown",
   "metadata": {
    "colab_type": "text",
    "id": "rsw5t_qw05x8"
   },
   "source": [
    "## Системные библиотеки\n",
    "\n",
    "### Модуль **os**\n",
    "\n",
    "Модуль os предоставляет множество функций для работы с операционной системой, причём их поведение, как правило, не зависит от ОС, поэтому программы остаются переносимыми. Здесь будут приведены наиболее часто используемые из них.\n",
    "\n",
    "Будьте внимательны: некоторые функции из этого модуля поддерживаются не всеми ОС.\n",
    "\n",
    "|Функция|Что делает|\n",
    "|---|:---|\n",
    "|`os.name`|имя операционной системы. Доступные варианты: 'posix', 'nt', 'mac', 'os2', 'ce', 'java'|\n",
    "|`os.environ`|словарь переменных окружения. Изменяемый (можно добавлять и удалять переменные окружения)|\n",
    "|`os.getlogin()`|имя пользователя, вошедшего в терминал (Unix)|\n",
    "|`os.getpid()`|текущий id процесса|\n",
    "|`os.uname()`|информация об ОС. возвращает объект с атрибутами: sysname - имя операционной системы, nodename - имя машины в сети (определяется реализацией), release - релиз, version - версия, machine - идентификатор машины|\n",
    "|`os.access(path, mode, *, dir_fd=None, effective_ids=False, follow_symlinks=True)`|проверка доступа к объекту у текущего пользователя. Флаги: `os.F_OK` - объект существует, `os.R_OK` - доступен на чтение, `os.W_OK` - доступен на запись, `os.X_OK` - доступен на исполнение|\n",
    "|`os.chdir(path)`|смена текущей директории|\n",
    "|`os.chmod(path, mode, *, dir_fd=None, follow_symlinks=True)`|смена прав доступа к объекту (mode - восьмеричное число)|\n",
    "|`os.chown(path, uid, gid, *, dir_fd=None, follow_symlinks=True)`|меняет id владельца и группы (Unix)|\n",
    "|`os.getcwd()`|текущая рабочая директория|\n",
    "|`os.link(src, dst, *, src_dir_fd=None, dst_dir_fd=None, follow_symlinks=True)`|создаёт жёсткую ссылку|\n",
    "|`os.listdir(path=\".\")`|список файлов и директорий в папке|\n",
    "|`os.mkdir(path, mode=0o777, *, dir_fd=None)`|создаёт директорию. OSError, если директория существует|\n",
    "|`os.makedirs(path, mode=0o777, exist_ok=False)`|создаёт директорию, создавая при этом промежуточные директории|\n",
    "|`os.remove(path, *, dir_fd=None)`|удаляет путь к файлу|\n",
    "|`os.rename(src, dst, *, src_dir_fd=None, dst_dir_fd=None)`|переименовывает файл или директорию из src в dst|\n",
    "|`os.renames(old, new)`|переименовывает old в new, создавая промежуточные директории|\n",
    "|`os.replace(src, dst, *, src_dir_fd=None, dst_dir_fd=None)`|переименовывает из src в dst с принудительной заменой|\n",
    "|`os.rmdir(path, *, dir_fd=None)`|удаляет пустую директорию|\n",
    "|`os.removedirs(path)`|удаляет директорию, затем пытается удалить родительские директории, и удаляет их рекурсивно, пока они пусты|\n",
    "|`os.symlink(source, link_name, target_is_directory=False, *, dir_fd=None)`|создаёт символическую ссылку на объект|\n",
    "|`os.sync()`|записывает все данные на диск (Unix)|\n",
    "|`os.truncate(path, length)`|обрезает файл до длины length|\n",
    "|`os.utime(path, times=None, *, ns=None, dir_fd=None, follow_symlinks=True)`|модификация времени последнего доступа и изменения файла. Либо times - кортеж (время доступа в секундах, время изменения в секундах), либо ns - кортеж (время доступа в наносекундах, время изменения в наносекундах)|\n",
    "|`os.walk(top, topdown=True, onerror=None, followlinks=False)`|генерация имён файлов в дереве каталогов, сверху вниз (если topdown равен True), либо снизу вверх (если False). Для каждого каталога функция walk возвращает кортеж (путь к каталогу, список каталогов, список файлов)|\n",
    "|`os.system(command)`|исполняет системную команду, возвращает код её завершения (в случае успеха 0)|\n",
    "|`os.urandom(n)`|n случайных байт. Возможно использование этой функции в криптографических целях|\n",
    "|`os.path`|модуль, реализующий некоторые полезные функции на работы с путями|"
   ]
  },
  {
   "cell_type": "markdown",
   "metadata": {
    "colab_type": "text",
    "id": "uQ7lQPTfmmo7"
   },
   "source": [
    "#### Некоторые распространенные функции os\n",
    "\n",
    "- **os.getcwd**\n",
    "\n",
    "Текущая рабочая директория\n",
    "\n",
    "- **os.path.join**\n",
    "\n",
    "Метод join позволяет вам совместить несколько путей при помощи присвоенного разделителя. К примеру, в Windows, в роли разделителя выступает бэкслэш (косая черта, указывающая назад), однако в Linux функция разделителя присвоена косой черте, указывающей вперед (forward slash).\n",
    "\n",
    "- **os.listdir**\n",
    "\n",
    "Cписок файлов и директорий в папке\n",
    "\n",
    "- **os.environ**\n",
    "\n",
    "Значение os.environ известно как объект мэппинга (сопоставления), который работает со словарем переменных пользовательской среды. "
   ]
  },
  {
   "cell_type": "code",
   "execution_count": 33,
   "metadata": {
    "colab": {
     "base_uri": "https://localhost:8080/",
     "height": 105
    },
    "colab_type": "code",
    "executionInfo": {
     "elapsed": 986,
     "status": "ok",
     "timestamp": 1575643562305,
     "user": {
      "displayName": "Надежда Демиденко",
      "photoUrl": "https://lh3.googleusercontent.com/a-/AAuE7mA6D7k5OgtG9hzPe8Abs8DfOKAXQoTXaPfn7EY=s64",
      "userId": "05224310221243935536"
     },
     "user_tz": -180
    },
    "id": "U3zdcipPmWf3",
    "outputId": "4ef9bcf6-454a-43d1-f7a0-f2649e7cc9db"
   },
   "outputs": [
    {
     "name": "stdout",
     "output_type": "stream",
     "text": [
      "environ({'ELECTRON_RUN_AS_NODE': '1', 'USER': 'meadowse', 'SECURITYSESSIONID': '18eae', 'COMMAND_MODE': 'unix2003', '__CFBundleIdentifier': 'com.microsoft.VSCode', 'PATH': '/usr/local/bin:/usr/local/bin:/opt/goinfre/meadowse/homebrew/opt/ruby/bin:/opt/goinfre/meadowse/homebrew/opt/ruby/bin:/Users/meadowse/.brew/bin:/usr/local/bin:/usr/bin:/bin:/usr/sbin:/sbin:/usr/local/go/bin:/usr/local/munki:/Library/Apple/usr/bin:$/opt/goinfre/meadowse/.rvm/bin:/Users/meadowse/.rvm/bin', 'HOME': '/Users/meadowse', 'SHELL': '/bin/zsh', 'LaunchInstanceID': '12568768-5C87-4BD1-9CE7-C7753BEF8AE7', '__CF_USER_TEXT_ENCODING': '0xF7906:0x7:0x31', 'XPC_SERVICE_NAME': 'application.com.microsoft.VSCode.1676020.1676223', 'SSH_AUTH_SOCK': '/private/tmp/com.apple.launchd.LmBWKuHMbm/Listeners', 'XPC_FLAGS': '0x0', 'LOGNAME': 'meadowse', 'TMPDIR': '/var/folders/zz/zyxvpxvq6csfxvn_n003vs0r00yy86/T/', 'ORIGINAL_XDG_CURRENT_DESKTOP': 'undefined', 'VSCODE_CWD': '/', 'VSCODE_NLS_CONFIG': '{\"locale\":\"ru\",\"availableLanguages\":{\"*\":\"ru\"},\"_languagePackId\":\"6c87e287770fa80b3245e0a037b935fb.ru\",\"_translationsConfigFile\":\"/Users/meadowse/Library/Application Support/Code/clp/6c87e287770fa80b3245e0a037b935fb.ru/tcf.json\",\"_cacheRoot\":\"/Users/meadowse/Library/Application Support/Code/clp/6c87e287770fa80b3245e0a037b935fb.ru\",\"_resolvedLanguagePackCoreLocation\":\"/Users/meadowse/Library/Application Support/Code/clp/6c87e287770fa80b3245e0a037b935fb.ru/da15b6fd3ef856477bf6f4fb29ba1b7af717770d\",\"_corruptedFile\":\"/Users/meadowse/Library/Application Support/Code/clp/6c87e287770fa80b3245e0a037b935fb.ru/corrupted.info\",\"_languagePackSupport\":true}', 'VSCODE_CODE_CACHE_PATH': '/Users/meadowse/Library/Application Support/Code/CachedData/da15b6fd3ef856477bf6f4fb29ba1b7af717770d', 'VSCODE_IPC_HOOK': '/Users/meadowse/Library/Application Support/Code/1.67.1-main.sock', 'VSCODE_PID': '76629', 'SHLVL': '0', 'PWD': '/', 'OLDPWD': '/', 'LIBRARY_PATH': '/usr/local/Cellar/check/0.15.2/lib:/usr/local/lib', 'C_INCLUDE_PATH': '/usr/local/include/', 'CPLUS_INCLUDE_PATH': '/usr/local/include/', 'MAVEN_HOME': '/opt/JavaTools/Maven', 'HOMEBREW_CACHE': '/tmp/meadowse/Homebrew/Caches', 'HOMEBREW_TEMP': '/tmp/meadowse/Homebrew/Temp', 'rvm_prefix': '/Users/meadowse', 'rvm_path': '/Users/meadowse/.rvm', 'rvm_bin_path': '/Users/meadowse/.rvm/bin', 'rvm_version': '1.29.12 (latest)', '_': '/Applications/Visual Studio Code.app/Contents/MacOS/Electron', 'VSCODE_AMD_ENTRYPOINT': 'vs/workbench/api/node/extensionHostProcess', 'VSCODE_PIPE_LOGGING': 'true', 'VSCODE_VERBOSE_LOGGING': 'true', 'VSCODE_LOG_NATIVE': 'false', 'VSCODE_IPC_HOOK_EXTHOST': '/var/folders/zz/zyxvpxvq6csfxvn_n003vs0r00yy86/T/vscode-ipc-bcc96dac-5549-41bd-aa77-9521f3719537.sock', 'VSCODE_HANDLES_UNCAUGHT_ERRORS': 'true', 'VSCODE_LOG_STACK': 'false', 'APPLICATION_INSIGHTS_NO_DIAGNOSTIC_CHANNEL': '1', 'PYTHONUNBUFFERED': '1', 'PYTHONIOENCODING': 'utf-8', 'LC_CTYPE': 'UTF-8', 'TERM': 'xterm-color', 'CLICOLOR': '1', 'PAGER': 'cat', 'GIT_PAGER': 'cat', 'MPLBACKEND': 'module://matplotlib_inline.backend_inline'})\n"
     ]
    }
   ],
   "source": [
    "import os\n",
    "\n",
    "# print(os.getcwd())\n",
    "# print(os.path.join(os.getcwd(), 'text.txt'))\n",
    "# print(os.listdir(path=\"02\"))\n",
    "print(os.environ)"
   ]
  },
  {
   "cell_type": "markdown",
   "metadata": {
    "colab_type": "text",
    "id": "WGjjHfCc33tC"
   },
   "source": [
    "### Модуль **sys**\n",
    "\n",
    "Модуль sys обеспечивает доступ к некоторым переменным и функциям, взаимодействующим с интерпретатором python.\n",
    "\n",
    "|Функция|Что делает|\n",
    "|---|:---|\n",
    "|`sys.argv`|список аргументов командной строки, передаваемых сценарию Python. `sys.argv[0]` является именем скрипта (пустой строкой в интерактивной оболочке)|\n",
    "|`sys.byteorder`|порядок байтов. Будет иметь значение 'big' при порядке следования битов от старшего к младшему, и 'little', если наоборот (младший байт первый)|\n",
    "|`sys.builtin_module_names`|кортеж строк, содержащий имена всех доступных модулей|\n",
    "|`sys.call_tracing(функция, аргументы)`|вызывает функцию с аргументами и включенной трассировкой, в то время как трассировка включена|\n",
    "|`sys.copyright`|строка, содержащая авторские права, относящиеся к интерпретатору Python|\n",
    "|`sys._clear_type_cache()`|очищает внутренний кэш типа|\n",
    "|`sys._current_frames()`|возвращает словарь-отображение идентификатора для каждого потока в верхнем кадре стека в настоящее время в этом потоке в момент вызова функции|\n",
    "|`sys.dllhandle`|целое число, определяющее дескриптор DLL Python (Windows)|\n",
    "|`sys.exc_info()`|возвращает кортеж из трех значений, которые дают информацию об исключениях, обрабатывающихся в данный момент|\n",
    "|`sys.exec_prefix`|каталог установки Python|\n",
    "|`sys.executable`|путь к интерпретатору Python|\n",
    "|`sys.exit([arg])`|выход из Python. Возбуждает исключение SystemExit, которое может быть перехвачено|\n",
    "|`sys.flags`|флаги командной строки. Атрибуты только для чтения|\n",
    "|`sys.float_info`|информация о типе данных float|\n",
    "|`sys.float_repr_style`|информация о применении встроенной функции repr() для типа float|\n",
    "|`sys.getdefaultencoding()`|возвращает используемую кодировку|\n",
    "|`sys.getdlopenflags()`|значения флагов для вызовов dlopen()|\n",
    "|`sys.getfilesystemencoding()`|возвращает кодировку файловой системы|\n",
    "|`sys.getrefcount(object)`|возвращает количество ссылок на объект. Аргумент функции getrefcount - еще одна ссылка на объект|\n",
    "|`sys.getrecursionlimit()`|возвращает лимит рекурсии|\n",
    "|`sys.getsizeof(object[, default])`|возвращает размер объекта (в байтах)|\n",
    "|`sys.getswitchinterval()`|интервал переключения потоков|\n",
    "|`sys.getwindowsversion()`|возвращает кортеж, описывающий версию Windows|\n",
    "|`sys.hash_info`|информация о параметрах хэширования|\n",
    "|`sys.hexversion`|версия python как шестнадцатеричное число (для 3.2.2 final это будет 30202f0)|\n",
    "|`sys.implementation`|объект, содержащий информацию о запущенном интерпретаторе python|\n",
    "|`sys.int_info`|информация о типе int|\n",
    "|`sys.intern(строка)`|возвращает интернированную строку|\n",
    "|`sys.last_type`, `sys.last_value`, `sys.last_traceback`|информация об обрабатываемых исключениях. По смыслу похоже на `sys.exc_info()`|\n",
    "|`sys.maxsize`|максимальное значение числа типа Py_ssize_t (231 на 32-битных и 263 на 64-битных платформах)|\n",
    "|`sys.maxunicode`|максимальное число бит для хранения символа Unicode|\n",
    "|`sys.modules`|словарь имен загруженных модулей. Изменяем|\n",
    "|`sys.path`|список путей поиска модулей|\n",
    "|`sys.path_importer_cache`|словарь-кэш для поиска объектов|\n",
    "|`sys.platform`|информация об операционной системе|\n",
    "|`sys.prefix`|папка установки интерпретатора python|\n",
    "|`sys.ps1`, `sys.ps2`|первичное и вторичное приглашение интерпретатора (определены только если интерпретатор находится в интерактивном режиме). По умолчанию `sys.ps1 == \">>> \"`, а `sys.ps2 == \"... \"`|\n",
    "|`sys.dont_write_bytecode`|если true, python не будет писать .pyc файлы|\n",
    "|`sys.setdlopenflags(flags)`|установить значения флагов для вызовов dlopen()|\n",
    "|`sys.setrecursionlimit(предел)`|установить максимальную глубину рекурсии|\n",
    "|`sys.setswitchinterval(интервал)`|установить интервал переключения потоков|\n",
    "|`sys.settrace(tracefunc)`|установить \"след\" функции|\n",
    "|`sys.stdin`|стандартный ввод|\n",
    "|`sys.stdout`|стандартный вывод|\n",
    "|`sys.stderr`|стандартный поток ошибок|\n",
    "|`sys.__stdin__`, `sys.__stdout__`, `sys.__stderr__`|исходные значения потоков ввода, вывода и ошибок|\n",
    "|`sys.tracebacklimit`|максимальное число уровней отслеживания|\n",
    "|`sys.version`|версия python|\n",
    "|`sys.api_version`|версия C API|\n",
    "|`sys.version_info`|Кортеж, содержащий пять компонентов номера версии|\n",
    "|`sys.warnoptions`|реализация предупреждений|\n",
    "|`sys.winver`|номер версии python, использующийся для формирования реестра Windows|"
   ]
  },
  {
   "cell_type": "markdown",
   "metadata": {
    "colab_type": "text",
    "id": "2KPGVxKjpuTw"
   },
   "source": [
    "#### Некоторые распространенные константы sys\n",
    "\n",
    "- **sys.path**\n",
    "\n",
    "это список строк, которые указывают путь поиска для модулей. Как правило, данная функция указывает Python, в каких локациях смотреть, когда он пытается импортировать модуль. В соответствии с документацией Python, sys.path инициализируется из переменной окружения PYTHONPATH, плюс зависимое от установки значение, указанное по умолчанию.\n",
    "\n",
    "- **sys.platform**\n",
    "\n",
    "Значение sys.platform – идентификатор платформы. Вы можете использовать sys.platform чтобы добавлять модули к sys.path, импортировать разные модули, в зависимости от платформы, или запускать разные части кода. \n",
    "\n",
    "- **sys.stdin** / **stdout** / **stderr**\n",
    "\n",
    "Stdin, stdout и stderr сопоставляются с файловыми объектами, которые соответствуют стандартным входам, выходам и потокам ошибок интерпретатора соответственно. Функция stdin используется для всех входов, используемых интерпретатором, за исключением скриптов, тогда как stdout используется для выходов операторов print и expression. Возможное применение - перенаправить stdout или stderr, или обе функции к файлу, такому как log, либо же какой-либо дисплей в пользовательском графическом интерфейсе, созданным вами."
   ]
  },
  {
   "cell_type": "code",
   "execution_count": 34,
   "metadata": {
    "colab": {
     "base_uri": "https://localhost:8080/",
     "height": 122
    },
    "colab_type": "code",
    "executionInfo": {
     "elapsed": 833,
     "status": "ok",
     "timestamp": 1575643885811,
     "user": {
      "displayName": "Надежда Демиденко",
      "photoUrl": "https://lh3.googleusercontent.com/a-/AAuE7mA6D7k5OgtG9hzPe8Abs8DfOKAXQoTXaPfn7EY=s64",
      "userId": "05224310221243935536"
     },
     "user_tz": -180
    },
    "id": "gBDd6MJnp56W",
    "outputId": "184215b7-da4f-495d-b47f-95f993a41c02"
   },
   "outputs": [
    {
     "name": "stdout",
     "output_type": "stream",
     "text": [
      "<_io.TextIOWrapper name='<stdin>' mode='r' encoding='utf-8'>\n",
      "<ipykernel.iostream.OutStream object at 0x109ed9ae0>\n",
      "<ipykernel.iostream.OutStream object at 0x109ed9ba0>\n"
     ]
    }
   ],
   "source": [
    "import sys\n",
    "\n",
    "# print(sys.path)\n",
    "# print(sys.platform)\n",
    "print(sys.stdin)\n",
    "print(sys.stdout)\n",
    "print(sys.stderr)"
   ]
  }
 ],
 "metadata": {
  "colab": {
   "name": "topic11.ipynb",
   "provenance": []
  },
  "interpreter": {
   "hash": "7e1998ff7f8aa20ada591c520b972326324e5ea05489af9e422744c7c09f6dad"
  },
  "kernelspec": {
   "display_name": "Python 3.10.2 64-bit",
   "language": "python",
   "name": "python3"
  },
  "language_info": {
   "codemirror_mode": {
    "name": "ipython",
    "version": 3
   },
   "file_extension": ".py",
   "mimetype": "text/x-python",
   "name": "python",
   "nbconvert_exporter": "python",
   "pygments_lexer": "ipython3",
   "version": "3.10.2"
  }
 },
 "nbformat": 4,
 "nbformat_minor": 1
}
